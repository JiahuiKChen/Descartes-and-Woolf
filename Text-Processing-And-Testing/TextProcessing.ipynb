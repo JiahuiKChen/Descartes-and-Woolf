{
 "cells": [
  {
   "cell_type": "code",
   "execution_count": 1,
   "metadata": {},
   "outputs": [],
   "source": [
    "from nltk import tokenize\n",
    "import pickle\n",
    "\n",
    "corpus_dir = \"Texts/\""
   ]
  },
  {
   "cell_type": "code",
   "execution_count": 18,
   "metadata": {},
   "outputs": [],
   "source": [
    "# Given a text file and 2 dictionaries:\n",
    "# Map of sentence_ID to sentences \n",
    "# Map of sentence_ID to set of all words in the sentence with the same ID\n",
    "# Adds the sentences and word sets in the file to the given dictionaries\n",
    "def process_text(file_name, author_sen_dict, author_word_dict, start_id):\n",
    "    text = open(file_name, encoding=\"utf-8\").read()\n",
    "    # Split into sentences\n",
    "    sentences = tokenize.sent_tokenize(text)\n",
    "#     print(sentences)\n",
    "    s_id = start_id\n",
    "    file_sentences = {}\n",
    "    file_wordsets = {}\n",
    "    for s in sentences:\n",
    "        words = set(s.strip().split())\n",
    "        author_sen_dict[s_id] = s\n",
    "        author_word_dict[s_id] = words\n",
    "        s_id += 1\n",
    "    \n",
    "    return s_id"
   ]
  },
  {
   "cell_type": "code",
   "execution_count": 54,
   "metadata": {},
   "outputs": [
    {
     "name": "stdout",
     "output_type": "stream",
     "text": [
      "87 87\n",
      "211 211\n",
      "3910 3910\n"
     ]
    }
   ],
   "source": [
    "# Getting and saving dicts for all texts for Woolf\n",
    "woolf_sen_dict = {}; woolf_word_dict = {}; start_id = 0\n",
    "woolf_txts = [\"KewGardens.txt\", \"MarkonThe Wall.txt\", \"Dalloway.txt\"]\n",
    "for woolf_txt in woolf_txts:\n",
    "    start_id = process_text(corpus_dir + woolf_txt, woolf_sen_dict, woolf_word_dict, start_id)\n",
    "    print(len(woolf_sen_dict), len(woolf_word_dict))\n",
    "    \n",
    "with open(\"AuthorTextDicts/Woolf-Sentences.pickle\", 'wb') as woolf_file:\n",
    "    pickle.dump(woolf_sen_dict, woolf_file)\n",
    "with open(\"AuthorTextDicts/Woolf-WordSets.pickle\", 'wb') as woolf_file:\n",
    "    pickle.dump(woolf_word_dict, woolf_file)"
   ]
  },
  {
   "cell_type": "code",
   "execution_count": 51,
   "metadata": {},
   "outputs": [
    {
     "name": "stdout",
     "output_type": "stream",
     "text": [
      "650 650\n",
      "934 934\n",
      "1691 1691\n"
     ]
    }
   ],
   "source": [
    "# Getting and saving dicts for all texts for Descartes\n",
    "descartes_sen_dict = {}; descartes_word_dict = {}; start_id = 0\n",
    "descartes_txts = [\"DescartesMeditations.txt\", \"DiscourseOnTheMethod.txt\", \"PrinciplesOfPhilosophy.txt\"]\n",
    "for d_txt in descartes_txts:\n",
    "    start_id = process_text(corpus_dir + d_txt, descartes_sen_dict, descartes_word_dict, start_id)\n",
    "    print(len(descartes_sen_dict), len(descartes_word_dict))\n",
    "\n",
    "with open(\"AuthorTextDicts/Descartes-Sentences.pickle\", 'wb') as d_file:\n",
    "    pickle.dump(descartes_sen_dict, d_file)\n",
    "with open(\"AuthorTextDicts/Descartes-WordSets.pickle\", 'wb') as d_file:\n",
    "    pickle.dump(descartes_word_dict, d_file)"
   ]
  },
  {
   "cell_type": "code",
   "execution_count": 55,
   "metadata": {},
   "outputs": [
    {
     "name": "stdout",
     "output_type": "stream",
     "text": [
      "3910\n",
      "3910\n",
      "1691\n",
      "1691\n"
     ]
    }
   ],
   "source": [
    "#Sanity check/loading from pickle example\n",
    "with open(\"AuthorTextDicts/Woolf-Sentences.pickle\", 'rb') as woolf_file:\n",
    "    woolf_dict = pickle.load(woolf_file)\n",
    "    print(len(woolf_dict))\n",
    "with open(\"AuthorTextDicts/Woolf-WordSets.pickle\", 'rb') as woolf_file:\n",
    "    woolf_words = pickle.load(woolf_file)\n",
    "    print(len(woolf_words))\n",
    "with open(\"AuthorTextDicts/Descartes-Sentences.pickle\", 'rb') as d_file:\n",
    "    descartes_sens = pickle.load(d_file)\n",
    "    print(len(descartes_sens))\n",
    "with open(\"AuthorTextDicts/Descartes-WordSets.pickle\", 'rb') as d_file:\n",
    "    descartes_words = pickle.load(d_file) \n",
    "    print(len(descartes_words))"
   ]
  },
  {
   "cell_type": "code",
   "execution_count": 8,
   "metadata": {},
   "outputs": [],
   "source": [
    "# Creating and saving corpus of all texts for Woolf\n",
    "woolf_corpus = ''; woolf_word_dict = {}; \n",
    "woolf_txts = [\"KewGardens.txt\", \"MarkonThe Wall.txt\", \"Dalloway.txt\"]\n",
    "\n",
    "for woolf_txt in woolf_txts:\n",
    "    file_name = corpus_dir + woolf_txt\n",
    "    text = open(file_name, encoding=\"utf-8\").read()\n",
    "    # Split into sentences\n",
    "    sentences = tokenize.sent_tokenize(text) \n",
    "    all_sens = \" \".join(sentences)\n",
    "    woolf_corpus += all_sens\n",
    "    \n",
    "woolf_file = open(corpus_dir + 'Woolf-Corpus.txt', 'w', encoding=\"utf-8\")\n",
    "woolf_file.write(woolf_corpus)\n",
    "woolf_file.close()"
   ]
  },
  {
   "cell_type": "code",
   "execution_count": 10,
   "metadata": {},
   "outputs": [],
   "source": [
    "# Creating and saving corpus of all texts for Descartes\n",
    "descartes_corpus = ''; descartes_word_dict = {};\n",
    "descartes_txts = [\"DescartesMeditations.txt\", \"DiscourseOnTheMethod.txt\", \"PrinciplesOfPhilosophy.txt\"]\n",
    "\n",
    "for d_txt in descartes_txts:\n",
    "    file_name = corpus_dir + d_txt\n",
    "    text = open(file_name, encoding=\"utf-8\").read()\n",
    "    # Split into sentences\n",
    "    sentences = tokenize.sent_tokenize(text) \n",
    "    all_sens = \" \".join(sentences)\n",
    "    descartes_corpus += all_sens\n",
    "    \n",
    "# print(descartes_corpus)\n",
    "descartes_file = open(corpus_dir + 'Descartes-Corpus.txt', 'w', encoding=\"utf-8\")\n",
    "descartes_file.write(descartes_corpus)\n",
    "descartes_file.close()"
   ]
  }
 ],
 "metadata": {
  "kernelspec": {
   "display_name": "Python 3",
   "language": "python",
   "name": "python3"
  },
  "language_info": {
   "codemirror_mode": {
    "name": "ipython",
    "version": 3
   },
   "file_extension": ".py",
   "mimetype": "text/x-python",
   "name": "python",
   "nbconvert_exporter": "python",
   "pygments_lexer": "ipython3",
   "version": "3.7.2"
  }
 },
 "nbformat": 4,
 "nbformat_minor": 2
}
