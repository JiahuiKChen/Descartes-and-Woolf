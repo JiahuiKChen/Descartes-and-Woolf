{
 "cells": [
  {
   "cell_type": "code",
   "execution_count": 1,
   "metadata": {},
   "outputs": [],
   "source": [
    "import pickle\n",
    "\n",
    "text_dicts_dir = \"AuthorTextDicts/\""
   ]
  },
  {
   "cell_type": "code",
   "execution_count": 5,
   "metadata": {},
   "outputs": [
    {
     "name": "stdout",
     "output_type": "stream",
     "text": [
      "3910\n",
      "3910\n",
      "1691\n",
      "1691\n"
     ]
    }
   ],
   "source": [
    "# Loading all sentences and word sets for authors\n",
    "with open(text_dicts_dir + \"Woolf-Sentences.pickle\", 'rb') as woolf_file:\n",
    "    woolf_sentences = pickle.load(woolf_file)\n",
    "    print(len(woolf_sentences))\n",
    "    \n",
    "with open(text_dicts_dir + \"Woolf-WordSets.pickle\", 'rb') as woolf_file:\n",
    "    woolf_wordsets = pickle.load(woolf_file)\n",
    "    print(len(woolf_wordsets))\n",
    "    \n",
    "with open(text_dicts_dir + \"Descartes-Sentences.pickle\", 'rb') as d_file:\n",
    "    descartes_sentences = pickle.load(d_file)\n",
    "    print(len(descartes_sentences))\n",
    "    \n",
    "with open(text_dicts_dir + \"Descartes-WordSets.pickle\", 'rb') as d_file:\n",
    "    descartes_wordsets = pickle.load(d_file)\n",
    "    print(len(descartes_wordsets))"
   ]
  },
  {
   "cell_type": "code",
   "execution_count": 30,
   "metadata": {},
   "outputs": [],
   "source": [
    "def get_author_sentences(phrase, wordsets, sentences):   \n",
    "    found_ids = []\n",
    "    found_sentences = []\n",
    "    for s_id in wordsets:\n",
    "        if phrase in wordsets[s_id]:\n",
    "            found_ids.append(s_id)\n",
    "    \n",
    "    for s_id in found_ids:\n",
    "        found_sentences.append(sentences[s_id])\n",
    "    result_str = \"\\n\\n\".join(found_sentences)\n",
    "    return result_str"
   ]
  },
  {
   "cell_type": "code",
   "execution_count": 31,
   "metadata": {},
   "outputs": [
    {
     "name": "stdout",
     "output_type": "stream",
     "text": [
      "The light fell either upon the smooth, grey back of a pebble, or, the shell of a snail with its brown, circular veins, or falling into a raindrop, it expanded with such intensity of red, blue and yellow the thin walls of water that one expected them to burst and disappear.\n",
      "\n",
      "The snail had now considered every possible method of reaching his goal without going round the dead leaf or climbing over it.\n",
      "\n",
      "All the same, I don't see why we should have a snail on our wall.\"\n",
      "\n",
      "There's a fine young feller aboard of it, Mrs. Dempster wagered,\n",
      "and away and away it went, fast and fading, away and away the\n",
      "aeroplane shot; soaring over Greenwich and all the masts; over the\n",
      "little island of grey churches, St. Paul's and the rest till, on\n",
      "either side of London, fields spread out and dark brown woods where\n",
      "adventurous thrushes hopping boldly, glancing quickly, snatched the\n",
      "snail and tapped him on a stone, once, twice, thrice.\n"
     ]
    }
   ],
   "source": [
    "woolf_ids = get_author_sentences(\"snail\", woolf_wordsets, woolf_sentences)\n",
    "print(woolf_ids)"
   ]
  },
  {
   "cell_type": "code",
   "execution_count": 33,
   "metadata": {},
   "outputs": [],
   "source": [
    "# Searches for an input phrase, returns sentences found from each author\n",
    "def text_search(phrase):\n",
    "    txt_input = phrase.strip()\n",
    "    woolf_results = \"\"\n",
    "    descartes_results = \"\"\n",
    "    if len(text_input) == 0:\n",
    "        woolf_results = \"Input was empty! Try again\"\n",
    "        descartes_results = \"Input was empty! Try again\"\n",
    "    else:\n",
    "        woolf_result = get_author_sentences(txt_input, woolf_wordsets, woolf_sentences)\n",
    "        descartes_result = get_author_sentences(txt_input, descartes_wordsets, descartes_sentences)"
   ]
  }
 ],
 "metadata": {
  "kernelspec": {
   "display_name": "Python 3",
   "language": "python",
   "name": "python3"
  },
  "language_info": {
   "codemirror_mode": {
    "name": "ipython",
    "version": 3
   },
   "file_extension": ".py",
   "mimetype": "text/x-python",
   "name": "python",
   "nbconvert_exporter": "python",
   "pygments_lexer": "ipython3",
   "version": "3.7.2"
  }
 },
 "nbformat": 4,
 "nbformat_minor": 2
}
