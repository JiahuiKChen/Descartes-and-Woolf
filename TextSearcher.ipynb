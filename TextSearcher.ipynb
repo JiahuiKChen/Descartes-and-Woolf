{
 "cells": [
  {
   "cell_type": "code",
   "execution_count": 1,
   "metadata": {},
   "outputs": [],
   "source": [
    "import pickle\n",
    "\n",
    "text_dicts_dir = \"AuthorTextDicts/\""
   ]
  },
  {
   "cell_type": "code",
   "execution_count": 5,
   "metadata": {},
   "outputs": [
    {
     "name": "stdout",
     "output_type": "stream",
     "text": [
      "3910\n",
      "3910\n",
      "1691\n",
      "1691\n"
     ]
    }
   ],
   "source": [
    "# Loading all sentences and word sets for authors\n",
    "with open(text_dicts_dir + \"Woolf-Sentences.pickle\", 'rb') as woolf_file:\n",
    "    woolf_sentences = pickle.load(woolf_file)\n",
    "    print(len(woolf_sentences))\n",
    "    \n",
    "with open(text_dicts_dir + \"Woolf-WordSets.pickle\", 'rb') as woolf_file:\n",
    "    woolf_wordsets = pickle.load(woolf_file)\n",
    "    print(len(woolf_wordsets))\n",
    "    \n",
    "with open(text_dicts_dir + \"Descartes-Sentences.pickle\", 'rb') as d_file:\n",
    "    descartes_sentences = pickle.load(d_file)\n",
    "    print(len(descartes_sentences))\n",
    "    \n",
    "with open(text_dicts_dir + \"Descartes-WordSets.pickle\", 'rb') as d_file:\n",
    "    descartes_wordsets = pickle.load(d_file)\n",
    "    print(len(descartes_wordsets))"
   ]
  },
  {
   "cell_type": "code",
   "execution_count": 10,
   "metadata": {},
   "outputs": [],
   "source": [
    "def get_woolf_sentences(phrase, woolf_sentences, woolf_wordsets):\n",
    "    phrase_words = phrase.strip().split()\n",
    "    \n",
    "    found_sentences = []\n",
    "    for goal_word in phrase_words:\n",
    "        for s_id in woolf_wordsets:\n",
    "            if goal_word in woolf_wordsets[s_id]:\n",
    "                found_sentences.append(s_id)\n",
    "#     print(found_sentences)\n",
    "    return found_sentences"
   ]
  },
  {
   "cell_type": "code",
   "execution_count": 11,
   "metadata": {},
   "outputs": [
    {
     "name": "stdout",
     "output_type": "stream",
     "text": [
      "The light fell either upon the smooth, grey back of a pebble, or, the shell of a snail with its brown, circular veins, or falling into a raindrop, it expanded with such intensity of red, blue and yellow the thin walls of water that one expected them to burst and disappear.\n",
      "The snail had now considered every possible method of reaching his goal without going round the dead leaf or climbing over it.\n",
      "All the same, I don't see why we should have a snail on our wall.\"\n",
      "There's a fine young feller aboard of it, Mrs. Dempster wagered,\n",
      "and away and away it went, fast and fading, away and away the\n",
      "aeroplane shot; soaring over Greenwich and all the masts; over the\n",
      "little island of grey churches, St. Paul's and the rest till, on\n",
      "either side of London, fields spread out and dark brown woods where\n",
      "adventurous thrushes hopping boldly, glancing quickly, snatched the\n",
      "snail and tapped him on a stone, once, twice, thrice.\n"
     ]
    }
   ],
   "source": [
    "woolf_ids = get_woolf_sentences(\"snail\", woolf_sentences, woolf_wordsets)\n",
    "\n",
    "for sen_id in woolf_ids:\n",
    "    print('\\n')\n",
    "    print(woolf_sentences[sen_id])"
   ]
  }
 ],
 "metadata": {
  "kernelspec": {
   "display_name": "Python 3",
   "language": "python",
   "name": "python3"
  },
  "language_info": {
   "codemirror_mode": {
    "name": "ipython",
    "version": 3
   },
   "file_extension": ".py",
   "mimetype": "text/x-python",
   "name": "python",
   "nbconvert_exporter": "python",
   "pygments_lexer": "ipython3",
   "version": "3.7.2"
  }
 },
 "nbformat": 4,
 "nbformat_minor": 2
}
